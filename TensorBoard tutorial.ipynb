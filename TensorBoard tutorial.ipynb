{
 "cells": [
  {
   "cell_type": "markdown",
   "metadata": {},
   "source": [
    "TensorBoard is part of TensorFlow and offers a framework for visualizing and monitoring the training process.\n",
    "\n",
    "**Check installation**\n",
    "```python\n",
    "$ conda list | grep tensor\n",
    "$ pip list | grep tensor\n",
    "```\n",
    "\n",
    "**Install**\n",
    "```python\n",
    "# Using anaconda package manager\n",
    "$ conda install tensorflow\n",
    "\n",
    "# Using pip\n",
    "$ pip install --upgrade pip\n",
    "$ pip install tensorflow\n",
    "```\n",
    "\n",
    "**Check instalation**\n",
    "```python\n",
    "$ which tensorboard\n",
    "```"
   ]
  },
  {
   "cell_type": "code",
   "execution_count": null,
   "metadata": {},
   "outputs": [],
   "source": [
    "### Regression ###"
   ]
  },
  {
   "cell_type": "code",
   "execution_count": null,
   "metadata": {},
   "outputs": [],
   "source": [
    "### TensoBoard ###\n",
    "```python\n",
    "#Define log directory; we use current time to differentiate runs\n",
    "current_time = time.strftime(\"%Y_%m_%d-%H:%M:%S\")\n",
    "logs_path = \"/path/to/directory/\" + current_time\n",
    "writer = tf.summary.FileWriter(logs_path, graph=tf.get_default_graph())\n",
    "```"
   ]
  },
  {
   "cell_type": "markdown",
   "metadata": {},
   "source": [
    "**Run TensorBoard from terminal**\n",
    "```python\n",
    "# If in the firectory where ? is saved\n",
    "$ tensorboard --logdir\n",
    "\n",
    "# Otherwise\n",
    "$ tensorboard --logdir /path/to/dir/\n",
    "```"
   ]
  },
  {
   "cell_type": "markdown",
   "metadata": {},
   "source": [
    "# Resources\n",
    "\n",
    "- https://www.tensorflow.org/install\n",
    "- https://docs.anaconda.com/anaconda/user-guide/tasks/tensorflow/"
   ]
  }
 ],
 "metadata": {
  "kernelspec": {
   "display_name": "Python 3",
   "language": "python",
   "name": "python3"
  },
  "language_info": {
   "codemirror_mode": {
    "name": "ipython",
    "version": 3
   },
   "file_extension": ".py",
   "mimetype": "text/x-python",
   "name": "python",
   "nbconvert_exporter": "python",
   "pygments_lexer": "ipython3",
   "version": "3.7.1"
  }
 },
 "nbformat": 4,
 "nbformat_minor": 4
}
