{
 "cells": [
  {
   "cell_type": "markdown",
   "metadata": {},
   "source": [
    "TensorBoard is part of TensorFlow and offers a framework for visualizing and monitoring the training process. We need to create an instance of FileWriter, a class from TensorFlow, by specifying a path file to where we want to save the runs (log directory) and a graph that we want to visualize.\n",
    "```python\n",
    "#Define log directory; we use current time to differentiate runs\n",
    "current_time = time.strftime(\"%Y_%m_%d-%H:%M:%S\")\n",
    "logs_path = \"/tmp/kings_county/\" + current_time\n",
    "writer = tf.summary.FileWriter(logs_path, graph=tf.get_default_graph())\n",
    "```"
   ]
  },
  {
   "cell_type": "code",
   "execution_count": null,
   "metadata": {},
   "outputs": [],
   "source": [
    "#Define log directory; we use current time to differentiate runs\n",
    "current_time = time.strftime(\"%Y_%m_%d-%H:%M:%S\")\n",
    "logs_path = \"/tmp/kings_county/\" + current_time\n",
    "writer = tf.summary.FileWriter(logs_path, graph=tf.get_default_graph())"
   ]
  }
 ],
 "metadata": {
  "kernelspec": {
   "display_name": "Python 3",
   "language": "python",
   "name": "python3"
  },
  "language_info": {
   "codemirror_mode": {
    "name": "ipython",
    "version": 3
   },
   "file_extension": ".py",
   "mimetype": "text/x-python",
   "name": "python",
   "nbconvert_exporter": "python",
   "pygments_lexer": "ipython3",
   "version": "3.7.1"
  }
 },
 "nbformat": 4,
 "nbformat_minor": 4
}
