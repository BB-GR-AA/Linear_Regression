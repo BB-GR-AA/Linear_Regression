{
 "cells": [
  {
   "cell_type": "markdown",
   "metadata": {},
   "source": [
    "# Forecasting of stock market with linear regression"
   ]
  },
  {
   "cell_type": "code",
   "execution_count": 20,
   "metadata": {},
   "outputs": [],
   "source": [
    "import numpy as np\n",
    "import torch\n",
    "import torch.optim as optim\n",
    "import pandas as pd\n",
    "# import pandas_datareader.data as web # Read what this import does. Find equivalent.\n",
    "#https://pandas-datareader.readthedocs.io/en/latest/\n",
    "#https://pandas-datareader.readthedocs.io/en/latest/remote_data.html\n",
    "from datetime import datetime\n",
    "from utils import linear_model, SSE\n",
    "\n",
    "#%whos\n",
    "#help(SSE)            # Ideally would want to add some unit test, error handling.\n",
    "#help(linear_model)\n",
    "# Go over everything briefly not in muhc deatil just in how we set the optimizer. Give good connection of the optimizer parameters."
   ]
  },
  {
   "cell_type": "code",
   "execution_count": 19,
   "metadata": {},
   "outputs": [
    {
     "data": {
      "text/plain": [
       "datetime.datetime(2016, 9, 1, 0, 0)"
      ]
     },
     "execution_count": 19,
     "metadata": {},
     "output_type": "execute_result"
    }
   ],
   "source": [
    "datetime(2016, 9, 1)"
   ]
  },
  {
   "cell_type": "code",
   "execution_count": 7,
   "metadata": {},
   "outputs": [],
   "source": [
    "# alpha = bad (small)."
   ]
  },
  {
   "cell_type": "markdown",
   "metadata": {},
   "source": [
    "# Overview and installation\n",
    "\n",
    "TensorBoard is part of TensorFlow and offers a framework for visualizing and monitoring the training process. It is useful for visualizing the computational graph of nn models, scalars (loss, classification accuracy), and distributions (weights of the model). \n",
    "\n",
    "**Check installation**\n",
    "```python\n",
    ">> conda list | grep tensor\n",
    ">> pip list | grep tensor\n",
    "```\n",
    "\n",
    "**Install**\n",
    "```python\n",
    "# Using anaconda package manager\n",
    ">> conda install tensorflow\n",
    "\n",
    "# Using pip\n",
    ">> pip install --upgrade pip\n",
    ">> pip install tensorflow\n",
    "```\n",
    "\n",
    "**Check instalation**\n",
    "```python\n",
    ">> which tensorboard\n",
    "```\n",
    "\n",
    "# Defining summaries\n",
    "\n",
    "??? are objects understood by TensorBoard that we want to display. There are various objects depending on what we want to visualize: <br>\n",
    "- scalars (gradients, loss)\n",
    "- vectors/histogram (model parameters - weights and biases) <br>\n",
    "\n",
    "Furthermore, you can use tf.name_scope to group scalars on the board. That is, scalars having the same name scope will be displayed on the same row. Here you define three different summaries."
   ]
  },
  {
   "cell_type": "code",
   "execution_count": null,
   "metadata": {},
   "outputs": [
    {
     "name": "stderr",
     "output_type": "stream",
     "text": [
      "C:\\Users\\Gonzalo\\anaconda3\\lib\\site-packages\\h5py\\__init__.py:40: UserWarning: h5py is running against HDF5 1.10.5 when it was built against 1.10.4, this may cause problems\n",
      "  '{0}.{1}.{2}'.format(*version.hdf5_built_version_tuple)\n"
     ]
    }
   ],
   "source": [
    "### Re-do with TensoBoard ###\n",
    "\n",
    "import tensorflow as tf\n",
    "\n",
    "# alpha = good one.\n",
    "#Define log directory; we use current time to differentiate runs\n",
    "# current_time = time.strftime(\"%Y_%m_%d-%H:%M:%S\")\n",
    "# logs_path = \"/path/to/directory/\" + current_time\n",
    "# writer = tf.summary.FileWriter(logs_path, graph=tf.get_default_graph())\n"
   ]
  },
  {
   "cell_type": "markdown",
   "metadata": {},
   "source": [
    "# Starting TensorBoard\n",
    "\n",
    "**From the terminal**\n",
    "```python\n",
    "# If in the firectory where ? is saved\n",
    ">> tensorboard --logdir\n",
    "\n",
    "# Otherwise\n",
    ">> tensorboard --logdir /path/to/directory/\n",
    "```\n",
    "\n",
    "**From the notebook**\n",
    "```python\n",
    "%load_ext tensorboard\n",
    "%tensorboard --logdir /path/to/directory/\n",
    "```"
   ]
  },
  {
   "cell_type": "markdown",
   "metadata": {},
   "source": [
    "# Resources\n",
    "\n",
    "- https://www.tensorflow.org/install\n",
    "- https://docs.anaconda.com/anaconda/user-guide/tasks/tensorflow/"
   ]
  }
 ],
 "metadata": {
  "kernelspec": {
   "display_name": "Python 3",
   "language": "python",
   "name": "python3"
  }
 },
 "nbformat": 4,
 "nbformat_minor": 4
}
